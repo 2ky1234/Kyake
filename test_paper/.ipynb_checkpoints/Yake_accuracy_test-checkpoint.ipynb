{
 "cells": [
  {
   "cell_type": "code",
   "execution_count": 4,
   "metadata": {
    "pycharm": {
     "name": "#%%\n"
    }
   },
   "outputs": [
    {
     "ename": "AttributeError",
     "evalue": "module 'test_paper' has no attribute 'nlp_test_step'",
     "output_type": "error",
     "traceback": [
      "\u001B[1;31m---------------------------------------------------------------------------\u001B[0m",
      "\u001B[1;31mAttributeError\u001B[0m                            Traceback (most recent call last)",
      "Cell \u001B[1;32mIn [4], line 5\u001B[0m\n\u001B[0;32m      1\u001B[0m \u001B[38;5;28;01mimport\u001B[39;00m \u001B[38;5;21;01mtest_paper\u001B[39;00m\n\u001B[0;32m      3\u001B[0m folder_path\u001B[38;5;241m=\u001B[39m\u001B[38;5;124m\"\u001B[39m\u001B[38;5;124mC:/Users/BIGTREE-HIG/Documents/GitHub/Kyake/test_paper/500N-KPCrowd\u001B[39m\u001B[38;5;124m\"\u001B[39m \u001B[38;5;66;03m# test, train 폴더는 함수에서 따로 구분해서 알아서 넣어줄거임\u001B[39;00m\n\u001B[1;32m----> 5\u001B[0m f1_score, output_pd\u001B[38;5;241m=\u001B[39m\u001B[43mtest_paper\u001B[49m\u001B[38;5;241;43m.\u001B[39;49m\u001B[43mnlp_test_step\u001B[49m(folder_path)  \u001B[38;5;66;03m#기본 3-gram\u001B[39;00m\n\u001B[0;32m      6\u001B[0m \u001B[38;5;28mprint\u001B[39m(f1_score)\n",
      "\u001B[1;31mAttributeError\u001B[0m: module 'test_paper' has no attribute 'nlp_test_step'"
     ]
    }
   ],
   "source": [
    "import test_paper\n",
    "\n",
    "folder_path=\"C:/Users/BIGTREE-HIG/Documents/GitHub/Kyake/test_paper/500N-KPCrowd\" # test, train 폴더는 함수에서 따로 구분해서 알아서 넣어줄거임\n",
    "\n",
    "f1_score, output_pd=test_paper.nlp_test_step(folder_path)  #기본 3-gram\n",
    "print(f1_score)"
   ]
  },
  {
   "cell_type": "code",
   "execution_count": null,
   "metadata": {
    "pycharm": {
     "name": "#%%\n"
    }
   },
   "outputs": [],
   "source": [
    "output_pd"
   ]
  }
 ],
 "metadata": {
  "kernelspec": {
   "display_name": "Python 3 (ipykernel)",
   "language": "python",
   "name": "python3"
  },
  "language_info": {
   "codemirror_mode": {
    "name": "ipython",
    "version": 3
   },
   "file_extension": ".py",
   "mimetype": "text/x-python",
   "name": "python",
   "nbconvert_exporter": "python",
   "pygments_lexer": "ipython3",
   "version": "3.9.12"
  },
  "vscode": {
   "interpreter": {
    "hash": "271ac903d638a034f30d392206313ddfc44850c43ffc24ecd523e49d8ee807c7"
   }
  }
 },
 "nbformat": 4,
 "nbformat_minor": 2
}