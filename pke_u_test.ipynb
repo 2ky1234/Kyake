{
 "cells": [
  {
   "cell_type": "code",
   "execution_count": null,
   "metadata": {
    "collapsed": true,
    "pycharm": {
     "name": "#%%\n"
    }
   },
   "outputs": [],
   "source": [
    "print(\"code test\")"
   ]
  }
 ],
 "metadata": {
  "kernelspec": {
   "display_name": "Python 3.9.9 64-bit",
   "language": "python",
   "name": "python3"
  },
  "language_info": {
   "codemirror_mode": {
    "name": "ipython",
    "version": 2
   },
   "file_extension": ".py",
   "mimetype": "text/x-python",
   "name": "python",
   "nbconvert_exporter": "python",
   "pygments_lexer": "ipython2",
   "version": "3.9.9"
  },
  "vscode": {
   "interpreter": {
    "hash": "271ac903d638a034f30d392206313ddfc44850c43ffc24ecd523e49d8ee807c7"
   }
  }
 },
 "nbformat": 4,
 "nbformat_minor": 0
}
